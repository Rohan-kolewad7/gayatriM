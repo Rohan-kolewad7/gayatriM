{
 "cells": [
  {
   "cell_type": "code",
   "execution_count": null,
   "id": "ce41400f-0187-4a6d-92bb-a4cb10c3d018",
   "metadata": {},
   "outputs": [],
   "source": [
    "##### Assignmnet - 3 \n",
    "##### Name - ROHAN RAJKUMAR KOLEWAD\n",
    "##### PRN no - 230350125066"
   ]
  },
  {
   "cell_type": "markdown",
   "id": "354afacc-309f-4eb6-bd91-cf8bff139260",
   "metadata": {},
   "source": [
    "# Importing Important libraries "
   ]
  },
  {
   "cell_type": "code",
   "execution_count": null,
   "id": "e22268a3-0bef-491a-bde2-83e8189edc31",
   "metadata": {},
   "outputs": [],
   "source": [
    "import matplotlib.pyplot as plt \n",
    "import seaborn as sns\n",
    "import numpy as np\n",
    "import pandas as pd\n",
    "import missingno as msno\n",
    "from sklearn.ensemble import RandomForestClassifier\n",
    "from sklearn.model_selection import RandomizedSearchCV, RepeatedStratifiedKFold, train_test_split\n",
    "from sklearn.metrics import accuracy_score, confusion_matrix, classification_report\n",
    "from sklearn.metrics import accuracy_score, precision_score, recall_score, f1_score\n",
    "from sklearn.feature_selection import SelectFromModel\n",
    "from sklearn.model_selection import RandomizedSearchCV\n",
    "from sklearn.model_selection import GridSearchCV"
   ]
  },
  {
   "cell_type": "code",
   "execution_count": null,
   "id": "71efdd42-2ca6-418f-960c-ed4654ac6d96",
   "metadata": {},
   "outputs": [],
   "source": [
    "water =  pd.read_csv('water_potability.csv')"
   ]
  },
  {
   "cell_type": "markdown",
   "id": "2ffa1d8a-7079-4d27-bc51-fdf437e2ab1e",
   "metadata": {},
   "source": [
    "## Performing EDA on Selected Dataset"
   ]
  },
  {
   "cell_type": "code",
   "execution_count": null,
   "id": "d694df2b-bb93-4b0a-9586-346d694fc26f",
   "metadata": {},
   "outputs": [],
   "source": [
    "water.shape"
   ]
  },
  {
   "cell_type": "code",
   "execution_count": null,
   "id": "51f2de23-7e7f-49fa-aff2-4855677027e3",
   "metadata": {},
   "outputs": [],
   "source": [
    "water.head()"
   ]
  },
  {
   "cell_type": "code",
   "execution_count": null,
   "id": "74e631e5-6b0e-433d-a361-d8349c8288d6",
   "metadata": {},
   "outputs": [],
   "source": [
    "water.describe()"
   ]
  },
  {
   "cell_type": "code",
   "execution_count": null,
   "id": "a2b71f6c-5313-4058-95eb-b0d6f6954dc3",
   "metadata": {},
   "outputs": [],
   "source": [
    "water.dtypes"
   ]
  },
  {
   "cell_type": "code",
   "execution_count": null,
   "id": "24f0f22d-dbd8-4558-b271-0f63a1abc87b",
   "metadata": {},
   "outputs": [],
   "source": [
    "water.info()"
   ]
  },
  {
   "cell_type": "markdown",
   "id": "cd4ad4cb-2452-42a1-871a-4310611a77c6",
   "metadata": {},
   "source": [
    "### Dependent Variable Analysis"
   ]
  },
  {
   "cell_type": "code",
   "execution_count": null,
   "id": "f4bd34c0-92ac-48cd-8d60-af7d7c72147e",
   "metadata": {},
   "outputs": [],
   "source": [
    "water_potability = water[\"Potability\"].map({0: \"Not Potable\", 1: \"Potable\"})\n",
    "dependent_V = pd.DataFrame(water_potability.value_counts()).reset_index()\n",
    "dependent_V.columns = [\"Potability\", \"Count\"]\n",
    "\n",
    "fig, ax = plt.subplots(figsize=(6, 6))\n",
    "ax.pie(dependent_V[\"Count\"], labels=dependent_V[\"Potability\"], autopct=\"%.1f%%\", startangle=90)\n",
    "ax.set_title(\"Pie Chart of Potability Feature\")\n",
    "ax.axis(\"equal\")\n",
    "ax.legend(loc=\"best\", bbox_to_anchor=(1, 0.5))\n",
    "plt.show()"
   ]
  },
  {
   "cell_type": "markdown",
   "id": "5939e32b-4faf-42c8-a2c3-bdbdd43c85be",
   "metadata": {},
   "source": [
    "### Correlation Between Features"
   ]
  },
  {
   "cell_type": "code",
   "execution_count": null,
   "id": "831cdb4f-0f77-4e36-bdad-ebbeede63b56",
   "metadata": {},
   "outputs": [],
   "source": [
    "water_corr= water.select_dtypes(include='number').columns\n",
    "corr= water[water_corr].corr()\n",
    "corr\n",
    "plt.subplots(figsize=(12, 8))\n",
    "sns.heatmap(corr, annot=True)"
   ]
  },
  {
   "cell_type": "markdown",
   "id": "5c62941b-8a3e-40b9-99d2-7581d060d668",
   "metadata": {},
   "source": [
    "### Plotting Boxplots for all numerical attributes."
   ]
  },
  {
   "cell_type": "code",
   "execution_count": null,
   "id": "060598a5-aa50-4145-8bde-7f76d40cd235",
   "metadata": {},
   "outputs": [],
   "source": [
    "columns = ['ph', 'Hardness', 'Solids', 'Chloramines', 'Sulfate',\n",
    "           'Conductivity', 'Organic_carbon', 'Trihalomethanes',\n",
    "           'Turbidity',]\n",
    "\n",
    "# Create a figure with subplots\n",
    "fig, axes = plt.subplots(nrows=3, ncols=3, figsize=(12, 12))\n",
    "\n",
    "# Plot each boxplot on a separate subplot\n",
    "for ax, column in zip(axes.flatten(), columns):\n",
    "    sns.boxplot(data=water, x=column, ax=ax)\n",
    "    ax.set_title(column)\n",
    "    \n",
    "    \n",
    "plt.tight_layout()\n",
    "plt.show()"
   ]
  },
  {
   "cell_type": "markdown",
   "id": "65221256-e381-41b2-be08-4c93572b3af9",
   "metadata": {},
   "source": [
    "### Distribution plots and Dispersion patterns"
   ]
  },
  {
   "cell_type": "code",
   "execution_count": null,
   "id": "bc255ce7-864d-439a-b4fc-4c79fd8fca9e",
   "metadata": {},
   "outputs": [],
   "source": [
    "print(water.columns)"
   ]
  },
  {
   "cell_type": "code",
   "execution_count": null,
   "id": "9a1ea866-8217-4ff5-a29d-89f6c6d7d2ea",
   "metadata": {},
   "outputs": [],
   "source": [
    "non_potable = water.query(\"Potability == 0\")\n",
    "potable = water.query(\"Potability == 1\")\n",
    "\n",
    "plt.figure(figsize = (15,15))\n",
    "for ax, col in enumerate(water.columns[:9]):\n",
    "    plt.subplot(3,3, ax + 1)\n",
    "    plt.title(col)\n",
    "    sns.kdeplot(x = non_potable[col], label = \"Non Potable\")\n",
    "    sns.kdeplot(x = potable[col], label = \"Potable\")\n",
    "    plt.legend()\n",
    "plt.tight_layout()"
   ]
  },
  {
   "cell_type": "markdown",
   "id": "d16af6a8-64c4-49c2-86e7-1d3ada8b0303",
   "metadata": {},
   "source": [
    "## Ploting Pairplot \n",
    "#### The Seaborn Pairplot allows us to plot pairwise relationships between variables within a dataset. This creates a nice visualisation and helps us understand the data by summarising a large amount of data in a single figure. "
   ]
  },
  {
   "cell_type": "code",
   "execution_count": null,
   "id": "a88b16d4-f6c3-4ea0-8316-8a93272b384b",
   "metadata": {},
   "outputs": [],
   "source": [
    "columns = ['ph', 'Hardness', 'Solids', 'Chloramines', 'Sulfate',\n",
    "           'Conductivity', 'Organic_carbon', 'Trihalomethanes',\n",
    "           'Turbidity', 'Potability']\n",
    "sns.pairplot(water, hue='ph', palette='coolwarm')\n",
    "plt.show()"
   ]
  },
  {
   "cell_type": "markdown",
   "id": "c0ce5209-8727-487e-a3db-c89bd672d62c",
   "metadata": {},
   "source": [
    "### Obesrving for missing values"
   ]
  },
  {
   "cell_type": "code",
   "execution_count": null,
   "id": "7e77bf67-3283-47a3-9fda-f204eea39105",
   "metadata": {},
   "outputs": [],
   "source": [
    "water.isnull().sum()"
   ]
  },
  {
   "cell_type": "code",
   "execution_count": null,
   "id": "6915f4c1-f45d-4b78-aa01-c97187cfac24",
   "metadata": {},
   "outputs": [],
   "source": [
    "msno.matrix(water)\n",
    "plt.show()"
   ]
  },
  {
   "cell_type": "markdown",
   "id": "64a6ef10-b70b-41d3-abbf-a697e0de8026",
   "metadata": {},
   "source": [
    "### Handle missing value with average of features (mean value)"
   ]
  },
  {
   "cell_type": "code",
   "execution_count": null,
   "id": "f5cdd14a-4cb7-4438-afb2-ae90270819ce",
   "metadata": {},
   "outputs": [],
   "source": [
    "print(water.columns)"
   ]
  },
  {
   "cell_type": "code",
   "execution_count": null,
   "id": "78198103-72c7-4f88-9560-3cc1cf4f75d4",
   "metadata": {},
   "outputs": [],
   "source": [
    "water['ph'].fillna(value = water['ph'].mean(), inplace = True)\n",
    "water['Sulfate'].fillna(value = water['Sulfate'].mean(),inplace = True)\n",
    "water['Trihalomethanes'].fillna(value = water['Trihalomethanes'].mean(),inplace = True)"
   ]
  },
  {
   "cell_type": "code",
   "execution_count": null,
   "id": "9e2c257e-f131-4f13-8c27-354d52a1926c",
   "metadata": {},
   "outputs": [],
   "source": [
    "water.isnull().sum()"
   ]
  },
  {
   "cell_type": "markdown",
   "id": "40debde8-9743-4416-9b5a-b24b2b36844f",
   "metadata": {},
   "source": [
    "## Preprocessing: Train-Test Split and Normalization"
   ]
  },
  {
   "cell_type": "code",
   "execution_count": null,
   "id": "17b17f12-814f-4ab0-9dbd-7ad76bef759c",
   "metadata": {},
   "outputs": [],
   "source": [
    "X = water.drop(\"Potability\", axis=1).values\n",
    "y = water[\"Potability\"].values"
   ]
  },
  {
   "cell_type": "markdown",
   "id": "c81a2bbc-0472-4550-ab31-cf56f50b8950",
   "metadata": {},
   "source": [
    "#### Train Test split"
   ]
  },
  {
   "cell_type": "code",
   "execution_count": null,
   "id": "5197f2c0-40a8-4a61-86c1-d5f763d42dae",
   "metadata": {},
   "outputs": [],
   "source": [
    "X_train, X_test, y_train, y_test = train_test_split(X, y, test_size = 0.3, random_state = 3)\n",
    "print(\"X_train\",X_train.shape)\n",
    "print(\"X_test\",X_test.shape)\n",
    "print(\"y_train\",y_train.shape)\n",
    "print(\"y_test\",y_test.shape)"
   ]
  },
  {
   "cell_type": "markdown",
   "id": "ca95876c-7672-43fc-94d7-d23aed33aabb",
   "metadata": {},
   "source": [
    "### Random Forest Classifier"
   ]
  },
  {
   "cell_type": "code",
   "execution_count": null,
   "id": "20de9035-41f6-4a50-9298-b0e750b067f8",
   "metadata": {},
   "outputs": [],
   "source": [
    "rfc = RandomForestClassifier()"
   ]
  },
  {
   "cell_type": "code",
   "execution_count": null,
   "id": "59f342be-1533-4ad4-9499-2f567c498a31",
   "metadata": {},
   "outputs": [],
   "source": [
    "rfc.fit(X_train,y_train)\n",
    "y_rfc = rfc.predict(X_test)"
   ]
  },
  {
   "cell_type": "code",
   "execution_count": null,
   "id": "f30fb014-4a14-4314-9540-654d996db153",
   "metadata": {},
   "outputs": [],
   "source": [
    "accuracy_rfc = accuracy_score(y_test, y_rfc)\n",
    "precision_rfc = precision_score(y_test, y_rfc, average='weighted')\n",
    "recall_rfc = recall_score(y_test, y_rfc, average='weighted')\n",
    "f1_rfc = f1_score(y_test, y_rfc, average='weighted')\n",
    "\n",
    "print(\"Overall Accuracy:\", accuracy_rfc)\n",
    "print(\"Precision:\", precision_rfc)\n",
    "print(\"Recall:\", recall_rfc)\n",
    "print(\"F1 Score:\", f1_rfc)"
   ]
  },
  {
   "cell_type": "markdown",
   "id": "c68233bc-b533-4fdf-bbca-2c12641f7c75",
   "metadata": {},
   "source": [
    "### Classification report "
   ]
  },
  {
   "cell_type": "code",
   "execution_count": null,
   "id": "e004cf9c-4a05-4c11-9024-de5116df2ce9",
   "metadata": {},
   "outputs": [],
   "source": [
    "rfc_class_report = classification_report(y_rfc,y_test)\n",
    "print(rfc_class_report)"
   ]
  },
  {
   "cell_type": "code",
   "execution_count": null,
   "id": "1d49f331-5866-422b-bfb3-1442bfeaf95f",
   "metadata": {},
   "outputs": [],
   "source": []
  },
  {
   "cell_type": "markdown",
   "id": "321d562c-3b7c-4c8a-8e70-19485bcc83e4",
   "metadata": {},
   "source": [
    "### 2 -  Method using hyperparameter 'class_weight' to balance the label class (1)  To check Any imporovemt in Accuracy and other Matrix"
   ]
  },
  {
   "cell_type": "code",
   "execution_count": null,
   "id": "10d032dd-39b7-47c2-a6da-640a15c30854",
   "metadata": {},
   "outputs": [],
   "source": [
    "from sklearn.feature_selection import SelectFromModel\n",
    "\n",
    "# Create and train the Random Forest classifier with adjusted class weights\n",
    "rfc = RandomForestClassifier(class_weight='balanced', random_state=42)\n",
    "rfc.fit(X_train, y_train)\n",
    "\n",
    "# Get predicted probabilities of each class\n",
    "y_pred_proba = rfc.predict_proba(X_test)\n",
    "\n",
    "# Adjust the decision threshold (e.g., set it to 0.4)\n",
    "threshold = 0.4\n",
    "y_pred_1= (y_pred_proba[:, 1] >= threshold).astype(int)\n",
    "\n",
    "# Generate classification report\n",
    "print(\"Classification Report:\")\n",
    "print(classification_report(y_test, y_pred_1))\n",
    "\n",
    "# Perform feature selection using Random Forest as the estimator\n",
    "selector = SelectFromModel(rfc)\n",
    "X_train_selected = selector.fit_transform(X_train, y_train)\n",
    "X_test_selected = selector.transform(X_test)\n",
    "\n",
    "# Train the Random Forest classifier on the selected features\n",
    "rfc_selected = RandomForestClassifier(class_weight='balanced', random_state=42)\n",
    "rfc_selected.fit(X_train_selected, y_train)\n",
    "\n",
    "# Get predicted probabilities of each class using the selected features\n",
    "y_pred_proba_selected = rfc_selected.predict_proba(X_test_selected)\n",
    "\n",
    "# Adjust the decision threshold (e.g., set it to 0.4)\n",
    "y_pred_selected = (y_pred_proba_selected[:, 1] >= threshold).astype(int)\n",
    "\n",
    "accuracy_selected = accuracy_score(y_test, y_pred_selected)\n",
    "precision_selected = precision_score(y_test, y_pred_selected)\n",
    "recall_selected = recall_score(y_test, y_pred_selected)\n",
    "f1_selected = f1_score(y_test, y_pred_selected)\n",
    "\n",
    "# Print metrics for the model with feature selection\n",
    "print(\"Model with Feature Selection:\")\n",
    "print(\"Overall Accuracy:\", accuracy_selected)\n",
    "print(\"Precision:\", precision_selected)\n",
    "print(\"Recall:\", recall_selected)\n",
    "print(\"F1 Score:\", f1_selected)"
   ]
  },
  {
   "cell_type": "markdown",
   "id": "320d5bd8-37c3-4709-9b39-9aabf17dd293",
   "metadata": {},
   "source": [
    "#### Classification report Random Forest classifier with adjusted class weights"
   ]
  },
  {
   "cell_type": "code",
   "execution_count": null,
   "id": "e94b81a8-0908-4ad1-bb31-b4c0c4d1b959",
   "metadata": {},
   "outputs": [],
   "source": [
    "# Generate classification report\n",
    "print(\"Classification Report:\")\n",
    "print(classification_report(y_test, y_pred_1))\n",
    "\n",
    "print(\"Classification Report (with feature selection):\")\n",
    "print(classification_report(y_test, y_pred_selected))"
   ]
  },
  {
   "cell_type": "markdown",
   "id": "76fc2385-97d3-4447-b540-267591921c37",
   "metadata": {},
   "source": [
    "### Random Search CV Alogorithm To check Any improvemt in Accuracy and other Matrix"
   ]
  },
  {
   "cell_type": "markdown",
   "id": "7b94cecd-40c0-41c7-a697-9b5f5d5998f1",
   "metadata": {},
   "source": [
    "#### Random Search:\n",
    "\n",
    "##### Random search randomly samples the hyperparameter space by selecting a fixed number of random combinations of hyperparameters.It allows more flexibility by exploring a wider range of hyperparameter valuesRandom search is particularly effective when the hyperparameter search space is large or when the impact of different hyperparameters is not well understood.By randomly sampling hyperparameter values, it is more likely to cover a diverse range of combinations, which can lead to better performance compared to an exhaustive grid search. Random search is often more computationally efficient"
   ]
  },
  {
   "cell_type": "code",
   "execution_count": null,
   "id": "576ce2fa-c0e1-4c3a-ac19-6519ae44da8b",
   "metadata": {},
   "outputs": [],
   "source": [
    "from sklearn.model_selection import RandomizedSearchCV\n",
    "# Define the parameter grid for random search\n",
    "param_grid = {\n",
    "    'n_estimators': [100, 200, 300],\n",
    "    'max_depth': [None, 5, 10, 15],\n",
    "    'min_samples_split': [2, 5, 10],\n",
    "    'min_samples_leaf': [1, 2, 4],\n",
    "    'bootstrap': [True, False]\n",
    "}\n",
    "# Perform random search\n",
    "random_search = RandomizedSearchCV(rfc, param_grid, n_iter=10, cv=5)\n",
    "\n",
    "# Fit the random search to training data\n",
    "random_search.fit(X_train, y_train)\n",
    "\n",
    "# Get the best estimator from the random search\n",
    "best_rfc = random_search.best_estimator_\n",
    "\n",
    "# Make predictions on the test set\n",
    "y_pred = best_rfc.predict(X_test)\n",
    "\n",
    "accuracy = accuracy_score(y_test, y_pred)\n",
    "precision = precision_score(y_test, y_pred, average='weighted')\n",
    "recall = recall_score(y_test, y_pred, average='weighted')\n",
    "f1 = f1_score(y_test, y_pred, average='weighted')\n",
    "\n",
    "# Print the metrics\n",
    "print(\"Overall Accuracy:\", accuracy)\n",
    "print(\"Precision:\", precision)\n",
    "print(\"Recall:\", recall)\n",
    "print(\"F1 Score:\", f1)\n"
   ]
  },
  {
   "cell_type": "markdown",
   "id": "28d4c2b4-5198-48d8-b05b-9c149871d17c",
   "metadata": {},
   "source": [
    "### Applying Gradient Boosting Classifier"
   ]
  },
  {
   "cell_type": "code",
   "execution_count": null,
   "id": "c794719f-a7a9-46bb-8e85-ac67d89a61d4",
   "metadata": {},
   "outputs": [],
   "source": [
    "from sklearn.ensemble import GradientBoostingClassifier\n",
    "from sklearn.metrics import accuracy_score, precision_score, recall_score, f1_score\n",
    "\n",
    "gbc = GradientBoostingClassifier()\n",
    "gbc.fit(X_train, y_train)\n",
    "y_gbc = gbc.predict(X_test)\n",
    "\n",
    "accuracy_gbc = accuracy_score(y_test, y_gbc)\n",
    "precision_gbc = precision_score(y_test, y_gbc, average='weighted')\n",
    "recall_gbc = recall_score(y_test, y_gbc, average='weighted')\n",
    "f1_gbc = f1_score(y_test, y_gbc, average='weighted')\n",
    "\n",
    "print(\"Gradient Boosting - Overall Accuracy:\", accuracy_gbc)\n",
    "print(\"Precision:\", precision_gbc)\n",
    "print(\"Recall:\", recall_gbc)\n",
    "print(\"F1 Score:\", f1_gbc)"
   ]
  },
  {
   "cell_type": "markdown",
   "id": "475fde74-a4ef-4f8b-8674-49efd1329926",
   "metadata": {},
   "source": [
    "### Classification report for RandomSearchCV"
   ]
  },
  {
   "cell_type": "code",
   "execution_count": null,
   "id": "c2773916-0481-4241-82da-38a74c288208",
   "metadata": {},
   "outputs": [],
   "source": [
    "print(classification_report(y_pred, y_test))"
   ]
  },
  {
   "cell_type": "markdown",
   "id": "2145d953-974e-4f3c-9cb1-2bb73ef8190a",
   "metadata": {},
   "source": [
    "### Creating a DataFrame to store the results:"
   ]
  },
  {
   "cell_type": "code",
   "execution_count": null,
   "id": "8c3eff29-338d-4abb-bca6-0ca8b63bf110",
   "metadata": {},
   "outputs": [],
   "source": [
    "results = pd.DataFrame({'Model': ['Random Forest','Model with Feature Selection','Random Search'],\n",
    "                       'Accuracy': [accuracy_rfc, accuracy_selected, accuracy],\n",
    "                       'Precision': [precision_rfc, precision_selected, precision],\n",
    "                       'Recall': [recall_rfc, recall_selected, recall],\n",
    "                       'F1-Score': [f1_rfc, f1_selected, f1]})\n",
    "\n",
    "\n",
    "# Save the results to a CSV file\n",
    "results.to_csv('classification_results.csv', index=False)"
   ]
  },
  {
   "cell_type": "code",
   "execution_count": null,
   "id": "0bc1a574-31fd-4f83-a8d4-142334702a5a",
   "metadata": {},
   "outputs": [],
   "source": [
    "results"
   ]
  },
  {
   "cell_type": "markdown",
   "id": "d64584af-a71f-4053-afa2-e4fe47b4de92",
   "metadata": {},
   "source": [
    "# Saving the final model"
   ]
  },
  {
   "cell_type": "code",
   "execution_count": null,
   "id": "99032ffb-b92e-4e53-b340-2e3f9b120b84",
   "metadata": {},
   "outputs": [],
   "source": [
    "import pickle\n",
    "\n",
    "# Save the trained Random Forest Classifier to a pickle file\n",
    "with open('random_forest_model.pkl', 'wb') as file:\n",
    "    pickle.dump(rfc, file)"
   ]
  },
  {
   "cell_type": "code",
   "execution_count": null,
   "id": "d39a30ba-39a8-4858-958b-fcb45963e555",
   "metadata": {},
   "outputs": [],
   "source": []
  },
  {
   "cell_type": "code",
   "execution_count": null,
   "id": "f240871a-0d90-4dda-b594-50cccfeacb5a",
   "metadata": {},
   "outputs": [],
   "source": []
  }
 ],
 "metadata": {
  "kernelspec": {
   "display_name": "Python 3 (ipykernel)",
   "language": "python",
   "name": "python3"
  },
  "language_info": {
   "codemirror_mode": {
    "name": "ipython",
    "version": 3
   },
   "file_extension": ".py",
   "mimetype": "text/x-python",
   "name": "python",
   "nbconvert_exporter": "python",
   "pygments_lexer": "ipython3",
   "version": "3.9.16"
  }
 },
 "nbformat": 4,
 "nbformat_minor": 5
}
